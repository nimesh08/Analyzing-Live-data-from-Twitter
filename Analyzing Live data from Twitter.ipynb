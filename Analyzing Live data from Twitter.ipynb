{
 "cells": [
  {
   "cell_type": "markdown",
   "metadata": {},
   "source": [
    "# Analyzing Live data from Twitter"
   ]
  },
  {
   "cell_type": "markdown",
   "metadata": {},
   "source": [
    "collecting various tweets consisting \"#Black Lives\" and apply visualization techniques to get some insights about the data?\""
   ]
  },
  {
   "cell_type": "code",
   "execution_count": 84,
   "metadata": {},
   "outputs": [],
   "source": [
    "import os\n",
    "import pandas as pd\n",
    "import matplotlib.pyplot as plt\n",
    "import seaborn as sns\n",
    "import itertools\n",
    "import collections\n",
    "\n",
    "import tweepy as tw\n",
    "import nltk\n",
    "from nltk.corpus import stopwords\n",
    "import re\n",
    "import networkx\n",
    "\n",
    "import warnings\n",
    "warnings.filterwarnings(\"ignore\")\n",
    "\n",
    "sns.set(font_scale=1.5)\n",
    "sns.set_style(\"whitegrid\")"
   ]
  },
  {
   "cell_type": "code",
   "execution_count": 85,
   "metadata": {},
   "outputs": [],
   "source": [
    "consumer_key = 'Wx2NGhEFf24gguut2POPOijyI'\n",
    "consumer_secret = '439pKZWbcTYCDRHMacoxNekNkX8FXtQQ4mQubdcfGwTpAa2Tlt'\n",
    "access_token = '1286207842714701824-3347pOOnnLdZNhJZUtS9jtBDoZyqqQ'\n",
    "access_secret = '0HrGH2yhQ3ZXapcEALV0NeUBnrPnJzFsYKcY5tqMnru6f'"
   ]
  },
  {
   "cell_type": "code",
   "execution_count": 86,
   "metadata": {},
   "outputs": [],
   "source": [
    "auth = tw.OAuthHandler(consumer_key, consumer_secret)\n",
    "auth.set_access_token(access_token, access_secret)\n",
    "api = tw.API(auth, wait_on_rate_limit=True)"
   ]
  },
  {
   "cell_type": "code",
   "execution_count": 102,
   "metadata": {},
   "outputs": [
    {
     "data": {
      "text/plain": [
       "['#Black Society Does NOT Condone \"Black Lives Matter\"! Democrats Do! These Are DESTRUCTIVE UNEMPLOYED BORED People! https://t.co/uvXet6OmXN',\n",
       " 'I will continue to combat #anti-#Black #racism AND #antisemitism. A society that is fairer and more just for… https://t.co/M6fEiRJdmi',\n",
       " 'The #White #Left Needs to Embrace #Black #Leadership https://t.co/4eS70kAzSY | @thenation',\n",
       " 'If you a white #parent  think of your own child - How would you would feel if #PoliceBrutality harmed your family?… https://t.co/mYfJSE46fJ',\n",
       " '@JoeBiden Joe will be one of the bestest Presidents ever #BLACK LIVES MATTER #KLANDEMIC']"
      ]
     },
     "execution_count": 102,
     "metadata": {},
     "output_type": "execute_result"
    }
   ],
   "source": [
    "search_term = \"#black+lives -filter:retweets\"\n",
    "\n",
    "tweets = tw.Cursor(api.search,q=search_term,lang=\"en\",since='2018-11-01').items(100)\n",
    "\n",
    "all_tweets = [tweet.text for tweet in tweets]\n",
    "\n",
    "all_tweets[:5]"
   ]
  },
  {
   "cell_type": "code",
   "execution_count": 103,
   "metadata": {},
   "outputs": [
    {
     "data": {
      "text/plain": [
       "['Black Society Does NOT Condone Black Lives Matter Democrats Do These Are DESTRUCTIVE UNEMPLOYED BORED People',\n",
       " 'I will continue to combat antiBlack racism AND antisemitism A society that is fairer and more just for',\n",
       " 'The White Left Needs to Embrace Black Leadership thenation',\n",
       " 'If you a white parent think of your own child How would you would feel if PoliceBrutality harmed your family',\n",
       " 'JoeBiden Joe will be one of the bestest Presidents ever BLACK LIVES MATTER KLANDEMIC']"
      ]
     },
     "execution_count": 103,
     "metadata": {},
     "output_type": "execute_result"
    }
   ],
   "source": [
    "def remove_url(txt):\n",
    "    return \" \".join(re.sub(\"([^0-9A-Za-z \\t])|(\\w+:\\/\\/\\S+)\", \"\", txt).split())\n",
    "all_tweets_no_urls = [remove_url(tweet) for tweet in all_tweets]\n",
    "all_tweets_no_urls[:5]"
   ]
  },
  {
   "cell_type": "code",
   "execution_count": 104,
   "metadata": {},
   "outputs": [
    {
     "data": {
      "text/plain": [
       "['Black',\n",
       " 'Society',\n",
       " 'Does',\n",
       " 'NOT',\n",
       " 'Condone',\n",
       " 'Black',\n",
       " 'Lives',\n",
       " 'Matter',\n",
       " 'Democrats',\n",
       " 'Do',\n",
       " 'These',\n",
       " 'Are',\n",
       " 'DESTRUCTIVE',\n",
       " 'UNEMPLOYED',\n",
       " 'BORED',\n",
       " 'People']"
      ]
     },
     "execution_count": 104,
     "metadata": {},
     "output_type": "execute_result"
    }
   ],
   "source": [
    "all_tweets_no_urls[0].split()"
   ]
  },
  {
   "cell_type": "code",
   "execution_count": 105,
   "metadata": {},
   "outputs": [
    {
     "data": {
      "text/plain": [
       "['black',\n",
       " 'society',\n",
       " 'does',\n",
       " 'not',\n",
       " 'condone',\n",
       " 'black',\n",
       " 'lives',\n",
       " 'matter',\n",
       " 'democrats',\n",
       " 'do',\n",
       " 'these',\n",
       " 'are',\n",
       " 'destructive',\n",
       " 'unemployed',\n",
       " 'bored',\n",
       " 'people']"
      ]
     },
     "execution_count": 105,
     "metadata": {},
     "output_type": "execute_result"
    }
   ],
   "source": [
    "all_tweets_no_urls[0].lower().split()"
   ]
  },
  {
   "cell_type": "code",
   "execution_count": 107,
   "metadata": {},
   "outputs": [
    {
     "data": {
      "text/plain": [
       "[['black',\n",
       "  'society',\n",
       "  'does',\n",
       "  'not',\n",
       "  'condone',\n",
       "  'black',\n",
       "  'lives',\n",
       "  'matter',\n",
       "  'democrats',\n",
       "  'do',\n",
       "  'these',\n",
       "  'are',\n",
       "  'destructive',\n",
       "  'unemployed',\n",
       "  'bored',\n",
       "  'people'],\n",
       " ['i',\n",
       "  'will',\n",
       "  'continue',\n",
       "  'to',\n",
       "  'combat',\n",
       "  'antiblack',\n",
       "  'racism',\n",
       "  'and',\n",
       "  'antisemitism',\n",
       "  'a',\n",
       "  'society',\n",
       "  'that',\n",
       "  'is',\n",
       "  'fairer',\n",
       "  'and',\n",
       "  'more',\n",
       "  'just',\n",
       "  'for']]"
      ]
     },
     "execution_count": 107,
     "metadata": {},
     "output_type": "execute_result"
    }
   ],
   "source": [
    "words_in_tweet = [tweet.lower().split() for tweet in all_tweets_no_urls]\n",
    "words_in_tweet[:2]"
   ]
  },
  {
   "cell_type": "code",
   "execution_count": 108,
   "metadata": {},
   "outputs": [
    {
     "data": {
      "text/plain": [
       "[('black', 74),\n",
       " ('lives', 60),\n",
       " ('the', 48),\n",
       " ('matter', 41),\n",
       " ('and', 38),\n",
       " ('of', 36),\n",
       " ('to', 34),\n",
       " ('a', 29),\n",
       " ('is', 21),\n",
       " ('for', 20),\n",
       " ('in', 17),\n",
       " ('are', 15),\n",
       " ('this', 13),\n",
       " ('on', 12),\n",
       " ('my', 12)]"
      ]
     },
     "execution_count": 108,
     "metadata": {},
     "output_type": "execute_result"
    }
   ],
   "source": [
    "all_words_no_urls = list(itertools.chain(*words_in_tweet))\n",
    "\n",
    "# Create counter\n",
    "counts_no_urls = collections.Counter(all_words_no_urls)\n",
    "\n",
    "counts_no_urls.most_common(15)"
   ]
  },
  {
   "cell_type": "code",
   "execution_count": 109,
   "metadata": {},
   "outputs": [
    {
     "data": {
      "text/html": [
       "<div>\n",
       "<style scoped>\n",
       "    .dataframe tbody tr th:only-of-type {\n",
       "        vertical-align: middle;\n",
       "    }\n",
       "\n",
       "    .dataframe tbody tr th {\n",
       "        vertical-align: top;\n",
       "    }\n",
       "\n",
       "    .dataframe thead th {\n",
       "        text-align: right;\n",
       "    }\n",
       "</style>\n",
       "<table border=\"1\" class=\"dataframe\">\n",
       "  <thead>\n",
       "    <tr style=\"text-align: right;\">\n",
       "      <th></th>\n",
       "      <th>words</th>\n",
       "      <th>count</th>\n",
       "    </tr>\n",
       "  </thead>\n",
       "  <tbody>\n",
       "    <tr>\n",
       "      <th>0</th>\n",
       "      <td>black</td>\n",
       "      <td>74</td>\n",
       "    </tr>\n",
       "    <tr>\n",
       "      <th>1</th>\n",
       "      <td>lives</td>\n",
       "      <td>60</td>\n",
       "    </tr>\n",
       "    <tr>\n",
       "      <th>2</th>\n",
       "      <td>the</td>\n",
       "      <td>48</td>\n",
       "    </tr>\n",
       "    <tr>\n",
       "      <th>3</th>\n",
       "      <td>matter</td>\n",
       "      <td>41</td>\n",
       "    </tr>\n",
       "    <tr>\n",
       "      <th>4</th>\n",
       "      <td>and</td>\n",
       "      <td>38</td>\n",
       "    </tr>\n",
       "    <tr>\n",
       "      <th>5</th>\n",
       "      <td>of</td>\n",
       "      <td>36</td>\n",
       "    </tr>\n",
       "    <tr>\n",
       "      <th>6</th>\n",
       "      <td>to</td>\n",
       "      <td>34</td>\n",
       "    </tr>\n",
       "    <tr>\n",
       "      <th>7</th>\n",
       "      <td>a</td>\n",
       "      <td>29</td>\n",
       "    </tr>\n",
       "    <tr>\n",
       "      <th>8</th>\n",
       "      <td>is</td>\n",
       "      <td>21</td>\n",
       "    </tr>\n",
       "    <tr>\n",
       "      <th>9</th>\n",
       "      <td>for</td>\n",
       "      <td>20</td>\n",
       "    </tr>\n",
       "    <tr>\n",
       "      <th>10</th>\n",
       "      <td>in</td>\n",
       "      <td>17</td>\n",
       "    </tr>\n",
       "    <tr>\n",
       "      <th>11</th>\n",
       "      <td>are</td>\n",
       "      <td>15</td>\n",
       "    </tr>\n",
       "    <tr>\n",
       "      <th>12</th>\n",
       "      <td>this</td>\n",
       "      <td>13</td>\n",
       "    </tr>\n",
       "    <tr>\n",
       "      <th>13</th>\n",
       "      <td>on</td>\n",
       "      <td>12</td>\n",
       "    </tr>\n",
       "    <tr>\n",
       "      <th>14</th>\n",
       "      <td>my</td>\n",
       "      <td>12</td>\n",
       "    </tr>\n",
       "  </tbody>\n",
       "</table>\n",
       "</div>"
      ],
      "text/plain": [
       "     words  count\n",
       "0    black     74\n",
       "1    lives     60\n",
       "2      the     48\n",
       "3   matter     41\n",
       "4      and     38\n",
       "5       of     36\n",
       "6       to     34\n",
       "7        a     29\n",
       "8       is     21\n",
       "9      for     20\n",
       "10      in     17\n",
       "11     are     15\n",
       "12    this     13\n",
       "13      on     12\n",
       "14      my     12"
      ]
     },
     "execution_count": 109,
     "metadata": {},
     "output_type": "execute_result"
    }
   ],
   "source": [
    "clean_tweets_no_urls = pd.DataFrame(counts_no_urls.most_common(15),\n",
    "                             columns=['words', 'count'])\n",
    "\n",
    "clean_tweets_no_urls"
   ]
  },
  {
   "cell_type": "code",
   "execution_count": 110,
   "metadata": {},
   "outputs": [
    {
     "data": {
      "image/png": "[encoded data removed]",
      "text/plain": [
       "<Figure size 576x576 with 1 Axes>"
      ]
     },
     "metadata": {},
     "output_type": "display_data"
    }
   ],
   "source": [
    "fig, ax = plt.subplots(figsize=(8, 8))\n",
    "\n",
    "# Plot horizontal bar graph\n",
    "clean_tweets_no_urls.sort_values(by='count').plot.barh(x='words',\n",
    "                      y='count',\n",
    "                      ax=ax,\n",
    "                      color=\"red\")\n",
    "\n",
    "ax.set_title(\"Common Words Found in Tweets (Including All Words)\")\n",
    "\n",
    "plt.show()\n"
   ]
  },
  {
   "cell_type": "code",
   "execution_count": 111,
   "metadata": {},
   "outputs": [
    {
     "name": "stderr",
     "output_type": "stream",
     "text": [
      "[nltk_data] Downloading package stopwords to\n",
      "[nltk_data]     C:\\Users\\yasha\\AppData\\Roaming\\nltk_data...\n",
      "[nltk_data]   Package stopwords is already up-to-date!\n"
     ]
    },
    {
     "data": {
      "text/plain": [
       "True"
      ]
     },
     "execution_count": 111,
     "metadata": {},
     "output_type": "execute_result"
    }
   ],
   "source": [
    "nltk.download('stopwords')"
   ]
  },
  {
   "cell_type": "code",
   "execution_count": 112,
   "metadata": {},
   "outputs": [
    {
     "data": {
      "text/plain": [
       "['was', 'have', 'am', 'between', 'him', 'them', 'aren', 'she', 'wouldn', 'don']"
      ]
     },
     "execution_count": 112,
     "metadata": {},
     "output_type": "execute_result"
    }
   ],
   "source": [
    "stop_words = set(stopwords.words('english'))\n",
    "\n",
    "# View a few words from the set\n",
    "list(stop_words)[0:10]"
   ]
  },
  {
   "cell_type": "code",
   "execution_count": 113,
   "metadata": {},
   "outputs": [
    {
     "data": {
      "text/plain": [
       "['black',\n",
       " 'society',\n",
       " 'does',\n",
       " 'not',\n",
       " 'condone',\n",
       " 'black',\n",
       " 'lives',\n",
       " 'matter',\n",
       " 'democrats',\n",
       " 'do',\n",
       " 'these',\n",
       " 'are',\n",
       " 'destructive',\n",
       " 'unemployed',\n",
       " 'bored',\n",
       " 'people']"
      ]
     },
     "execution_count": 113,
     "metadata": {},
     "output_type": "execute_result"
    }
   ],
   "source": [
    "words_in_tweet[0]"
   ]
  },
  {
   "cell_type": "code",
   "execution_count": 114,
   "metadata": {},
   "outputs": [
    {
     "data": {
      "text/plain": [
       "['black',\n",
       " 'society',\n",
       " 'condone',\n",
       " 'black',\n",
       " 'lives',\n",
       " 'matter',\n",
       " 'democrats',\n",
       " 'destructive',\n",
       " 'unemployed',\n",
       " 'bored',\n",
       " 'people']"
      ]
     },
     "execution_count": 114,
     "metadata": {},
     "output_type": "execute_result"
    }
   ],
   "source": [
    "tweets_nsw = [[word for word in tweet_words if not word in stop_words]\n",
    "              for tweet_words in words_in_tweet]\n",
    "\n",
    "tweets_nsw[0]"
   ]
  },
  {
   "cell_type": "code",
   "execution_count": 115,
   "metadata": {},
   "outputs": [
    {
     "data": {
      "text/plain": [
       "[('black', 74),\n",
       " ('lives', 60),\n",
       " ('matter', 41),\n",
       " ('blacklivesmatter', 9),\n",
       " ('support', 7),\n",
       " ('african', 6),\n",
       " ('movement', 6),\n",
       " ('tribute', 6),\n",
       " ('rights', 6),\n",
       " ('smith', 6),\n",
       " ('one', 5),\n",
       " ('first', 5),\n",
       " ('president', 5),\n",
       " ('blm', 5),\n",
       " ('dont', 5)]"
      ]
     },
     "execution_count": 115,
     "metadata": {},
     "output_type": "execute_result"
    }
   ],
   "source": [
    "all_words_nsw = list(itertools.chain(*tweets_nsw))\n",
    "\n",
    "counts_nsw = collections.Counter(all_words_nsw)\n",
    "\n",
    "counts_nsw.most_common(15)"
   ]
  },
  {
   "cell_type": "code",
   "execution_count": 116,
   "metadata": {},
   "outputs": [
    {
     "data": {
      "image/png": "[encoded data removed]",
      "text/plain": [
       "<Figure size 576x576 with 1 Axes>"
      ]
     },
     "metadata": {},
     "output_type": "display_data"
    }
   ],
   "source": [
    "clean_tweets_nsw = pd.DataFrame(counts_nsw.most_common(15),\n",
    "                             columns=['words', 'count'])\n",
    "\n",
    "fig, ax = plt.subplots(figsize=(8, 8))\n",
    "\n",
    "# Plot horizontal bar graph\n",
    "clean_tweets_nsw.sort_values(by='count').plot.barh(x='words',\n",
    "                      y='count',\n",
    "                      ax=ax,\n",
    "                      color=\"red\")\n",
    "\n",
    "ax.set_title(\"Common Words Found in Tweets (Without Stop Words)\")\n",
    "\n",
    "plt.show()\n"
   ]
  }
 ],
 "metadata": {
  "kernelspec": {
   "display_name": "Python 3 (ipykernel)",
   "language": "python",
   "name": "python3"
  },
  "language_info": {
   "codemirror_mode": {
    "name": "ipython",
    "version": 3
   },
   "file_extension": ".py",
   "mimetype": "text/x-python",
   "name": "python",
   "nbconvert_exporter": "python",
   "pygments_lexer": "ipython3",
   "version": "3.10.5"
  }
 },
 "nbformat": 4,
 "nbformat_minor": 4
}
